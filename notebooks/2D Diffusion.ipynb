{
 "cells": [
  {
   "cell_type": "markdown",
   "metadata": {},
   "source": [
    "### A starting notebook for 2-d diffusion problems"
   ]
  },
  {
   "cell_type": "markdown",
   "metadata": {},
   "source": [
    "In this package we seek to solve various 2-d diffusion problems"
   ]
  },
  {
   "cell_type": "code",
   "execution_count": 9,
   "metadata": {},
   "outputs": [
    {
     "data": {
      "text/plain": [
       "\"/Users/jeff/Dropbox/MAE250H/julia/HW4/Project.toml\""
      ]
     },
     "execution_count": 9,
     "metadata": {},
     "output_type": "execute_result"
    }
   ],
   "source": [
    "using Pkg\n",
    "Pkg.activate(\"/Users/jeff/Dropbox/MAE250H/julia/HW4\")"
   ]
  },
  {
   "cell_type": "markdown",
   "metadata": {},
   "source": [
    "The usual set of notebooks"
   ]
  },
  {
   "cell_type": "code",
   "execution_count": 10,
   "metadata": {},
   "outputs": [
    {
     "name": "stderr",
     "output_type": "stream",
     "text": [
      "┌ Info: Recompiling stale cache file /Users/jeff/.julia/compiled/v1.1/HW4/enQ9F.ji for HW4 [59be1dea-6512-11e9-2444-99050c21919d]\n",
      "└ @ Base loading.jl:1184\n"
     ]
    }
   ],
   "source": [
    "using Revise\n",
    "using Plots\n",
    "using LinearAlgebra\n",
    "using HW4"
   ]
  },
  {
   "cell_type": "markdown",
   "metadata": {},
   "source": [
    "### Problem statement"
   ]
  },
  {
   "cell_type": "markdown",
   "metadata": {},
   "source": [
    "The goal of this problem is to solve\n",
    "\n",
    "$$ \\dfrac{\\partial u}{\\partial t} = \\nu \\nabla^2 u$$\n",
    "\n",
    "on a square domain $x, y \\in [0,L]$ subject to Dirichlet boundary conditions $u(0,y,t) = u_L(y)$ and $u(L,y,t) = u_R(y)$, $u(x,0,t) = u_B(x)$, $u(x,L,t) = u_T(x)$, and initial condition $u(x,y,0) = 0$."
   ]
  },
  {
   "cell_type": "markdown",
   "metadata": {},
   "source": [
    "### Functions that evaluate the diffusion problem"
   ]
  },
  {
   "cell_type": "markdown",
   "metadata": {},
   "source": [
    "#### Function that introduces Dirichlet boundary conditions into provided data"
   ]
  },
  {
   "cell_type": "code",
   "execution_count": 2,
   "metadata": {},
   "outputs": [],
   "source": [
    "# Would be useful to create a function takes as input a set of edge data and returns the same\n",
    "# data with the boundary and ghost values set as needed to enforce Dirichlet\n",
    "# boundary conditions."
   ]
  },
  {
   "cell_type": "markdown",
   "metadata": {},
   "source": [
    "#### Set up the right-hand side function, to be used for R-K time marching"
   ]
  },
  {
   "cell_type": "code",
   "execution_count": 4,
   "metadata": {},
   "outputs": [],
   "source": [
    "# RHS function of diffusion problem for edge data, accepting inputs u (EdgeData) and t (time)\n",
    "# and returning du/dt"
   ]
  },
  {
   "cell_type": "markdown",
   "metadata": {},
   "source": [
    "#### Construct the Crank-Nicolson function for advancement by one step."
   ]
  },
  {
   "cell_type": "code",
   "execution_count": 5,
   "metadata": {},
   "outputs": [],
   "source": [
    "# Crank-Nicolson function of diffusion problem for edge data\n",
    "# Accepts as inputs u (EdgeData) and t (time) at time level n \n",
    "# and returns same things at time level n+1"
   ]
  },
  {
   "cell_type": "markdown",
   "metadata": {},
   "source": [
    "### Set up the physical problem"
   ]
  },
  {
   "cell_type": "code",
   "execution_count": 17,
   "metadata": {},
   "outputs": [
    {
     "data": {
      "text/plain": [
       "(-4.0, -4.0)"
      ]
     },
     "execution_count": 17,
     "metadata": {},
     "output_type": "execute_result"
    }
   ],
   "source": [
    "# For pulse problem\n",
    "LX = 8  # length of x side\n",
    "x0, y0 = -4.0, -4.0  # coordinates of lower left hand corner of domain\n",
    "\n",
    "# For pure boundary data problem\n",
    "#LX = 1  # length of x side\n",
    "#x0, y0 = 0.0, 0.0  # coordinates of lower left hand corner of domain"
   ]
  },
  {
   "cell_type": "markdown",
   "metadata": {},
   "source": [
    "Set up function that evaluates the initial condition of a Gaussian pulse."
   ]
  },
  {
   "cell_type": "code",
   "execution_count": 18,
   "metadata": {},
   "outputs": [
    {
     "data": {
      "text/plain": [
       "f (generic function with 1 method)"
      ]
     },
     "execution_count": 18,
     "metadata": {},
     "output_type": "execute_result"
    }
   ],
   "source": [
    "σ = 0.3 # width of pulse\n",
    "A = 1 # strength (easy to set to 0 if you don't want to do this problem)\n",
    "f(x,y,σ) = A/(π*σ^2)*exp(-(x^2+y^2)/σ^2)"
   ]
  },
  {
   "cell_type": "markdown",
   "metadata": {},
   "source": [
    "### Set up the grid and associated mappings and indexing"
   ]
  },
  {
   "cell_type": "markdown",
   "metadata": {},
   "source": [
    "Number of cells in each direction"
   ]
  },
  {
   "cell_type": "code",
   "execution_count": 19,
   "metadata": {},
   "outputs": [
    {
     "data": {
      "text/plain": [
       "64"
      ]
     },
     "execution_count": 19,
     "metadata": {},
     "output_type": "execute_result"
    }
   ],
   "source": [
    "NX = 64\n",
    "NY = 64"
   ]
  },
  {
   "cell_type": "markdown",
   "metadata": {},
   "source": [
    "Set up the grid mappings"
   ]
  },
  {
   "cell_type": "code",
   "execution_count": 20,
   "metadata": {},
   "outputs": [
    {
     "data": {
      "text/plain": [
       "yedgey (generic function with 1 method)"
      ]
     },
     "execution_count": 20,
     "metadata": {},
     "output_type": "execute_result"
    }
   ],
   "source": [
    "Δx = LX/NX\n",
    "xnode(i_n) = x0 + (i_n - 1)*Δx\n",
    "ynode(j_n) = y0 + (j_n - 1)*Δx\n",
    "xcell(i_c) = x0 + (i_c - 1.5)*Δx\n",
    "ycell(j_c) = y0 + (j_c - 1.5)*Δx\n",
    "xedgex(i_e) = xnode(i_e) # x component of x edge\n",
    "yedgex(j_e) = ycell(j_e) # y component of x edge\n",
    "xedgey(i_e) = xcell(i_e) # x component of y edge\n",
    "yedgey(j_e) = ynode(j_e) # y component of y edge"
   ]
  },
  {
   "cell_type": "markdown",
   "metadata": {},
   "source": [
    "### Set up the initial condition"
   ]
  },
  {
   "cell_type": "markdown",
   "metadata": {},
   "source": [
    "Edge data"
   ]
  },
  {
   "cell_type": "code",
   "execution_count": 21,
   "metadata": {},
   "outputs": [],
   "source": [
    "u0 = EdgeData(NX,NY)\n",
    "i_x, i_y = indices(u0,1)\n",
    "j_x, j_y = indices(u0,2)\n",
    "for j in j_x, i in i_x\n",
    "    u0.qx[i,j] = f(xedgex(i),yedgex(j),σ)\n",
    "end\n",
    "for j in j_y, i in i_y\n",
    "    u0.qy[i,j] = f(xedgey(i),yedgey(j),σ)\n",
    "end"
   ]
  },
  {
   "cell_type": "markdown",
   "metadata": {},
   "source": [
    "#### Plot initial condition, just to be safe"
   ]
  },
  {
   "cell_type": "code",
   "execution_count": 22,
   "metadata": {},
   "outputs": [
    {
     "data": {
      "image/svg+xml": [
       "<?xml version=\"1.0\" encoding=\"utf-8\"?>\n",
       "<svg xmlns=\"http://www.w3.org/2000/svg\" xmlns:xlink=\"http://www.w3.org/1999/xlink\" width=\"600\" height=\"400\" viewBox=\"0 0 2400 1600\">\n",
       "<defs>\n",
       "  <clipPath id=\"clip8000\">\n",
       "    <rect x=\"0\" y=\"0\" width=\"2400\" height=\"1600\"/>\n",
       "  </clipPath>\n",
       "</defs>\n",
       "<polygon clip-path=\"url(#clip8000)\" points=\"\n",
       "0,1600 2400,1600 2400,0 0,0 \n",
       "  \" fill=\"#ffffff\" fill-rule=\"evenodd\" fill-opacity=\"1\"/>\n",
       "<defs>\n",
       "  <clipPath id=\"clip8001\">\n",
       "    <rect x=\"480\" y=\"0\" width=\"1681\" height=\"1600\"/>\n",
       "  </clipPath>\n",
       "</defs>\n",
       "<polygon clip-path=\"url(#clip8000)\" points=\"\n",
       "212.353,1237.69 1121.26,1237.69 1121.26,328.78 212.353,328.78 \n",
       "  \" fill=\"#ffffff\" fill-rule=\"evenodd\" fill-opacity=\"1\"/>\n",
       "<defs>\n",
       "  <clipPath id=\"clip8002\">\n",
       "    <rect x=\"212\" y=\"328\" width=\"910\" height=\"910\"/>\n",
       "  </clipPath>\n",
       "</defs>\n",
       "<polyline clip-path=\"url(#clip8002)\" style=\"stroke:#000000; stroke-width:2; stroke-opacity:0.1; fill:none\" points=\"\n",
       "  212.353,1237.69 212.353,328.78 \n",
       "  \"/>\n",
       "<polyline clip-path=\"url(#clip8002)\" style=\"stroke:#000000; stroke-width:2; stroke-opacity:0.1; fill:none\" points=\"\n",
       "  439.58,1237.69 439.58,328.78 \n",
       "  \"/>\n",
       "<polyline clip-path=\"url(#clip8002)\" style=\"stroke:#000000; stroke-width:2; stroke-opacity:0.1; fill:none\" points=\"\n",
       "  666.806,1237.69 666.806,328.78 \n",
       "  \"/>\n",
       "<polyline clip-path=\"url(#clip8002)\" style=\"stroke:#000000; stroke-width:2; stroke-opacity:0.1; fill:none\" points=\"\n",
       "  894.033,1237.69 894.033,328.78 \n",
       "  \"/>\n",
       "<polyline clip-path=\"url(#clip8002)\" style=\"stroke:#000000; stroke-width:2; stroke-opacity:0.1; fill:none\" points=\"\n",
       "  1121.26,1237.69 1121.26,328.78 \n",
       "  \"/>\n",
       "<polyline clip-path=\"url(#clip8002)\" style=\"stroke:#000000; stroke-width:2; stroke-opacity:0.1; fill:none\" points=\"\n",
       "  212.353,1237.69 1121.26,1237.69 \n",
       "  \"/>\n",
       "<polyline clip-path=\"url(#clip8002)\" style=\"stroke:#000000; stroke-width:2; stroke-opacity:0.1; fill:none\" points=\"\n",
       "  212.353,1010.46 1121.26,1010.46 \n",
       "  \"/>\n",
       "<polyline clip-path=\"url(#clip8002)\" style=\"stroke:#000000; stroke-width:2; stroke-opacity:0.1; fill:none\" points=\"\n",
       "  212.353,783.233 1121.26,783.233 \n",
       "  \"/>\n",
       "<polyline clip-path=\"url(#clip8002)\" style=\"stroke:#000000; stroke-width:2; stroke-opacity:0.1; fill:none\" points=\"\n",
       "  212.353,556.007 1121.26,556.007 \n",
       "  \"/>\n",
       "<polyline clip-path=\"url(#clip8002)\" style=\"stroke:#000000; stroke-width:2; stroke-opacity:0.1; fill:none\" points=\"\n",
       "  212.353,328.78 1121.26,328.78 \n",
       "  \"/>\n",
       "<polyline clip-path=\"url(#clip8000)\" style=\"stroke:#000000; stroke-width:4; stroke-opacity:1; fill:none\" points=\"\n",
       "  212.353,1237.69 1121.26,1237.69 \n",
       "  \"/>\n",
       "<polyline clip-path=\"url(#clip8000)\" style=\"stroke:#000000; stroke-width:4; stroke-opacity:1; fill:none\" points=\"\n",
       "  212.353,1237.69 212.353,328.78 \n",
       "  \"/>\n",
       "<polyline clip-path=\"url(#clip8000)\" style=\"stroke:#000000; stroke-width:4; stroke-opacity:1; fill:none\" points=\"\n",
       "  212.353,1237.69 212.353,1224.05 \n",
       "  \"/>\n",
       "<polyline clip-path=\"url(#clip8000)\" style=\"stroke:#000000; stroke-width:4; stroke-opacity:1; fill:none\" points=\"\n",
       "  439.58,1237.69 439.58,1224.05 \n",
       "  \"/>\n",
       "<polyline clip-path=\"url(#clip8000)\" style=\"stroke:#000000; stroke-width:4; stroke-opacity:1; fill:none\" points=\"\n",
       "  666.806,1237.69 666.806,1224.05 \n",
       "  \"/>\n",
       "<polyline clip-path=\"url(#clip8000)\" style=\"stroke:#000000; stroke-width:4; stroke-opacity:1; fill:none\" points=\"\n",
       "  894.033,1237.69 894.033,1224.05 \n",
       "  \"/>\n",
       "<polyline clip-path=\"url(#clip8000)\" style=\"stroke:#000000; stroke-width:4; stroke-opacity:1; fill:none\" points=\"\n",
       "  1121.26,1237.69 1121.26,1224.05 \n",
       "  \"/>\n",
       "<polyline clip-path=\"url(#clip8000)\" style=\"stroke:#000000; stroke-width:4; stroke-opacity:1; fill:none\" points=\"\n",
       "  212.353,1237.69 225.986,1237.69 \n",
       "  \"/>\n",
       "<polyline clip-path=\"url(#clip8000)\" style=\"stroke:#000000; stroke-width:4; stroke-opacity:1; fill:none\" points=\"\n",
       "  212.353,1010.46 225.986,1010.46 \n",
       "  \"/>\n",
       "<polyline clip-path=\"url(#clip8000)\" style=\"stroke:#000000; stroke-width:4; stroke-opacity:1; fill:none\" points=\"\n",
       "  212.353,783.233 225.986,783.233 \n",
       "  \"/>\n",
       "<polyline clip-path=\"url(#clip8000)\" style=\"stroke:#000000; stroke-width:4; stroke-opacity:1; fill:none\" points=\"\n",
       "  212.353,556.007 225.986,556.007 \n",
       "  \"/>\n",
       "<polyline clip-path=\"url(#clip8000)\" style=\"stroke:#000000; stroke-width:4; stroke-opacity:1; fill:none\" points=\"\n",
       "  212.353,328.78 225.986,328.78 \n",
       "  \"/>\n",
       "<g clip-path=\"url(#clip8000)\">\n",
       "<text style=\"fill:#000000; fill-opacity:1; font-family:Arial,Helvetica Neue,Helvetica,sans-serif; font-size:48px; text-anchor:middle;\" transform=\"rotate(0, 212.353, 1291.69)\" x=\"212.353\" y=\"1291.69\">-4</text>\n",
       "</g>\n",
       "<g clip-path=\"url(#clip8000)\">\n",
       "<text style=\"fill:#000000; fill-opacity:1; font-family:Arial,Helvetica Neue,Helvetica,sans-serif; font-size:48px; text-anchor:middle;\" transform=\"rotate(0, 439.58, 1291.69)\" x=\"439.58\" y=\"1291.69\">-2</text>\n",
       "</g>\n",
       "<g clip-path=\"url(#clip8000)\">\n",
       "<text style=\"fill:#000000; fill-opacity:1; font-family:Arial,Helvetica Neue,Helvetica,sans-serif; font-size:48px; text-anchor:middle;\" transform=\"rotate(0, 666.806, 1291.69)\" x=\"666.806\" y=\"1291.69\">0</text>\n",
       "</g>\n",
       "<g clip-path=\"url(#clip8000)\">\n",
       "<text style=\"fill:#000000; fill-opacity:1; font-family:Arial,Helvetica Neue,Helvetica,sans-serif; font-size:48px; text-anchor:middle;\" transform=\"rotate(0, 894.033, 1291.69)\" x=\"894.033\" y=\"1291.69\">2</text>\n",
       "</g>\n",
       "<g clip-path=\"url(#clip8000)\">\n",
       "<text style=\"fill:#000000; fill-opacity:1; font-family:Arial,Helvetica Neue,Helvetica,sans-serif; font-size:48px; text-anchor:middle;\" transform=\"rotate(0, 1121.26, 1291.69)\" x=\"1121.26\" y=\"1291.69\">4</text>\n",
       "</g>\n",
       "<g clip-path=\"url(#clip8000)\">\n",
       "<text style=\"fill:#000000; fill-opacity:1; font-family:Arial,Helvetica Neue,Helvetica,sans-serif; font-size:48px; text-anchor:end;\" transform=\"rotate(0, 188.353, 1255.19)\" x=\"188.353\" y=\"1255.19\">-4</text>\n",
       "</g>\n",
       "<g clip-path=\"url(#clip8000)\">\n",
       "<text style=\"fill:#000000; fill-opacity:1; font-family:Arial,Helvetica Neue,Helvetica,sans-serif; font-size:48px; text-anchor:end;\" transform=\"rotate(0, 188.353, 1027.96)\" x=\"188.353\" y=\"1027.96\">-2</text>\n",
       "</g>\n",
       "<g clip-path=\"url(#clip8000)\">\n",
       "<text style=\"fill:#000000; fill-opacity:1; font-family:Arial,Helvetica Neue,Helvetica,sans-serif; font-size:48px; text-anchor:end;\" transform=\"rotate(0, 188.353, 800.733)\" x=\"188.353\" y=\"800.733\">0</text>\n",
       "</g>\n",
       "<g clip-path=\"url(#clip8000)\">\n",
       "<text style=\"fill:#000000; fill-opacity:1; font-family:Arial,Helvetica Neue,Helvetica,sans-serif; font-size:48px; text-anchor:end;\" transform=\"rotate(0, 188.353, 573.507)\" x=\"188.353\" y=\"573.507\">2</text>\n",
       "</g>\n",
       "<g clip-path=\"url(#clip8000)\">\n",
       "<text style=\"fill:#000000; fill-opacity:1; font-family:Arial,Helvetica Neue,Helvetica,sans-serif; font-size:48px; text-anchor:end;\" transform=\"rotate(0, 188.353, 346.28)\" x=\"188.353\" y=\"346.28\">4</text>\n",
       "</g>\n",
       "<g clip-path=\"url(#clip8000)\">\n",
       "<text style=\"fill:#000000; fill-opacity:1; font-family:Arial,Helvetica Neue,Helvetica,sans-serif; font-size:84px; text-anchor:middle;\" transform=\"rotate(0, 666.806, 73.2)\" x=\"666.806\" y=\"73.2\">qx</text>\n",
       "</g>\n",
       "<g clip-path=\"url(#clip8000)\">\n",
       "<text style=\"fill:#000000; fill-opacity:1; font-family:Arial,Helvetica Neue,Helvetica,sans-serif; font-size:66px; text-anchor:middle;\" transform=\"rotate(0, 666.806, 1590.4)\" x=\"666.806\" y=\"1590.4\">x</text>\n",
       "</g>\n",
       "<g clip-path=\"url(#clip8000)\">\n",
       "<text style=\"fill:#000000; fill-opacity:1; font-family:Arial,Helvetica Neue,Helvetica,sans-serif; font-size:66px; text-anchor:middle;\" transform=\"rotate(-90, 57.6, 783.233)\" x=\"57.6\" y=\"783.233\">y</text>\n",
       "</g>\n",
       "<polyline clip-path=\"url(#clip8002)\" style=\"stroke:#e65e2d; stroke-width:4; stroke-opacity:1; fill:none\" points=\"\n",
       "  658.762,804.536 666.806,807.097 674.85,804.536 681.008,801.724 \n",
       "  \"/>\n",
       "<polyline clip-path=\"url(#clip8002)\" style=\"stroke:#f57d15; stroke-width:4; stroke-opacity:1; fill:none\" points=\"\n",
       "  681.008,797.61 686.265,790.334 686.265,776.133 681.008,768.857 666.806,762.301 652.605,768.857 647.347,776.133 647.347,790.334 652.605,797.61 \n",
       "  \"/>\n",
       "<polyline clip-path=\"url(#clip8002)\" style=\"stroke:#e65e2d; stroke-width:4; stroke-opacity:1; fill:none\" points=\"\n",
       "  652.605,801.724 644.375,790.334 644.375,776.133 652.605,764.743 658.762,761.931 \n",
       "  \"/>\n",
       "<polyline clip-path=\"url(#clip8002)\" style=\"stroke:#fabf26; stroke-width:4; stroke-opacity:1; fill:none\" points=\"\n",
       "  654.077,776.133 666.806,769.217 679.536,776.133 679.536,790.334 666.806,797.25 654.077,790.334 \n",
       "  \"/>\n",
       "<polyline clip-path=\"url(#clip8002)\" style=\"stroke:#f3e258; stroke-width:4; stroke-opacity:1; fill:none\" points=\"\n",
       "  660.441,790.334 666.806,793.792 673.171,790.334 673.171,776.133 666.806,772.675 660.441,776.133 \n",
       "  \"/>\n",
       "<polyline clip-path=\"url(#clip8002)\" style=\"stroke:#fb9c07; stroke-width:4; stroke-opacity:1; fill:none\" points=\"\n",
       "  652.605,793.497 650.32,790.334 650.32,776.133 652.605,772.97 666.806,765.759 681.008,772.97 683.293,776.133 683.293,790.334 681.008,793.497 \n",
       "  \"/>\n",
       "<polyline clip-path=\"url(#clip8002)\" style=\"stroke:#821f6b; stroke-width:4; stroke-opacity:1; fill:none\" points=\"\n",
       "  694.958,804.536 681.008,815.848 666.806,818.566 652.605,815.848 638.655,804.536 638.403,804.121 631.433,790.334 631.433,776.133 638.403,762.346 638.655,761.931 \n",
       "  652.605,750.619 666.806,747.901 681.008,750.619 694.958,761.931 695.21,762.346 702.18,776.133 702.18,790.334 695.21,804.121 694.958,804.536 \n",
       "  \"/>\n",
       "<polyline clip-path=\"url(#clip8002)\" style=\"stroke:#9e2a62; stroke-width:4; stroke-opacity:1; fill:none\" points=\"\n",
       "  690.751,804.536 681.008,812.437 666.806,815.699 652.605,812.437 642.861,804.536 638.403,797.196 634.934,790.334 634.934,776.133 638.403,769.27 642.861,761.931 \n",
       "  652.605,754.03 666.806,750.768 681.008,754.03 690.751,761.931 695.21,769.27 698.679,776.133 698.679,790.334 695.21,797.196 690.751,804.536 \n",
       "  \"/>\n",
       "<polyline clip-path=\"url(#clip8002)\" style=\"stroke:#ba3655; stroke-width:4; stroke-opacity:1; fill:none\" points=\"\n",
       "  686.545,804.536 681.008,809.026 666.806,812.831 652.605,809.026 647.068,804.536 638.43,790.334 638.43,776.133 647.068,761.931 652.605,757.441 666.806,753.636 \n",
       "  681.008,757.441 686.545,761.931 695.183,776.133 695.183,790.334 686.545,804.536 \n",
       "  \"/>\n",
       "<polyline clip-path=\"url(#clip8002)\" style=\"stroke:#d24742; stroke-width:4; stroke-opacity:1; fill:none\" points=\"\n",
       "  682.339,804.536 681.008,805.615 666.806,809.964 652.605,805.615 651.274,804.536 641.402,790.334 641.402,776.133 651.274,761.931 652.605,760.852 666.806,756.503 \n",
       "  681.008,760.852 682.339,761.931 692.21,776.133 692.21,790.334 682.339,804.536 \n",
       "  \"/>\n",
       "<polyline clip-path=\"url(#clip8002)\" style=\"stroke:#470b69; stroke-width:4; stroke-opacity:1; fill:none\" points=\"\n",
       "  704.822,804.536 695.21,815.676 690.719,818.738 681.008,824.83 666.806,827.356 652.605,824.83 642.894,818.738 638.403,815.676 628.791,804.536 624.43,790.334 \n",
       "  624.43,776.133 628.791,761.931 638.403,750.791 642.894,747.729 652.605,741.637 666.806,739.111 681.008,741.637 690.719,747.729 695.21,750.791 704.822,761.931 \n",
       "  709.182,776.133 709.182,790.334 704.822,804.536 \n",
       "  \"/>\n",
       "<polyline clip-path=\"url(#clip8002)\" style=\"stroke:#63146e; stroke-width:4; stroke-opacity:1; fill:none\" points=\"\n",
       "  699.867,804.536 695.21,809.934 682.295,818.738 681.008,819.545 666.806,822.914 652.605,819.545 651.318,818.738 638.403,809.934 633.745,804.536 627.931,790.334 \n",
       "  627.931,776.133 633.745,761.931 638.403,756.533 651.318,747.729 652.605,746.922 666.806,743.553 681.008,746.922 682.295,747.729 695.21,756.533 699.867,761.931 \n",
       "  705.681,776.133 705.681,790.334 699.867,804.536 \n",
       "  \"/>\n",
       "<polyline clip-path=\"url(#clip8002)\" style=\"stroke:#0d0829; stroke-width:4; stroke-opacity:1; fill:none\" points=\"\n",
       "  719.866,804.536 710.104,818.738 709.411,819.49 695.21,831.787 692.118,832.939 681.008,838.948 666.806,841.005 652.605,838.948 641.495,832.939 638.403,831.787 \n",
       "  624.201,819.49 623.509,818.738 613.747,804.536 610.891,790.334 610.891,776.133 613.747,761.931 623.509,747.729 624.201,746.977 638.403,734.68 641.495,733.528 \n",
       "  652.605,727.519 666.806,725.461 681.008,727.519 692.118,733.528 695.21,734.68 709.411,746.977 710.104,747.729 719.866,761.931 722.722,776.133 722.722,790.334 \n",
       "  719.866,804.536 \n",
       "  \"/>\n",
       "<polyline clip-path=\"url(#clip8002)\" style=\"stroke:#270b52; stroke-width:4; stroke-opacity:1; fill:none\" points=\"\n",
       "  710.129,804.536 709.411,805.544 699.842,818.738 695.21,822.891 681.008,830.114 666.806,831.799 652.605,830.114 638.403,822.891 633.771,818.738 624.201,805.544 \n",
       "  623.484,804.536 617.771,790.334 617.771,776.133 623.484,761.931 624.201,760.923 633.771,747.729 638.403,743.576 652.605,736.353 666.806,734.668 681.008,736.353 \n",
       "  695.21,743.576 699.842,747.729 709.411,760.923 710.129,761.931 715.841,776.133 715.841,790.334 710.129,804.536 \n",
       "  \"/>\n",
       "<polyline clip-path=\"url(#clip8002)\" style=\"stroke:#e65e2d; stroke-width:4; stroke-opacity:1; fill:none\" points=\"\n",
       "  689.238,776.133 689.238,790.334 681.008,801.724 \n",
       "  \"/>\n",
       "<polyline clip-path=\"url(#clip8002)\" style=\"stroke:#f57d15; stroke-width:4; stroke-opacity:1; fill:none\" points=\"\n",
       "  666.806,804.166 652.605,797.61 \n",
       "  \"/>\n",
       "<polyline clip-path=\"url(#clip8002)\" style=\"stroke:#fb9c07; stroke-width:4; stroke-opacity:1; fill:none\" points=\"\n",
       "  666.806,800.708 652.605,793.497 \n",
       "  \"/>\n",
       "<polyline clip-path=\"url(#clip8002)\" style=\"stroke:#e65e2d; stroke-width:4; stroke-opacity:1; fill:none\" points=\"\n",
       "  681.008,764.743 674.85,761.931 666.806,759.37 658.762,761.931 \n",
       "  \"/>\n",
       "<polygon clip-path=\"url(#clip8000)\" points=\"\n",
       "1412.35,1237.69 2321.26,1237.69 2321.26,328.78 1412.35,328.78 \n",
       "  \" fill=\"#ffffff\" fill-rule=\"evenodd\" fill-opacity=\"1\"/>\n",
       "<defs>\n",
       "  <clipPath id=\"clip8003\">\n",
       "    <rect x=\"1412\" y=\"328\" width=\"910\" height=\"910\"/>\n",
       "  </clipPath>\n",
       "</defs>\n",
       "<polyline clip-path=\"url(#clip8003)\" style=\"stroke:#000000; stroke-width:2; stroke-opacity:0.1; fill:none\" points=\"\n",
       "  1412.35,1237.69 1412.35,328.78 \n",
       "  \"/>\n",
       "<polyline clip-path=\"url(#clip8003)\" style=\"stroke:#000000; stroke-width:2; stroke-opacity:0.1; fill:none\" points=\"\n",
       "  1639.58,1237.69 1639.58,328.78 \n",
       "  \"/>\n",
       "<polyline clip-path=\"url(#clip8003)\" style=\"stroke:#000000; stroke-width:2; stroke-opacity:0.1; fill:none\" points=\"\n",
       "  1866.81,1237.69 1866.81,328.78 \n",
       "  \"/>\n",
       "<polyline clip-path=\"url(#clip8003)\" style=\"stroke:#000000; stroke-width:2; stroke-opacity:0.1; fill:none\" points=\"\n",
       "  2094.03,1237.69 2094.03,328.78 \n",
       "  \"/>\n",
       "<polyline clip-path=\"url(#clip8003)\" style=\"stroke:#000000; stroke-width:2; stroke-opacity:0.1; fill:none\" points=\"\n",
       "  2321.26,1237.69 2321.26,328.78 \n",
       "  \"/>\n",
       "<polyline clip-path=\"url(#clip8003)\" style=\"stroke:#000000; stroke-width:2; stroke-opacity:0.1; fill:none\" points=\"\n",
       "  1412.35,1237.69 2321.26,1237.69 \n",
       "  \"/>\n",
       "<polyline clip-path=\"url(#clip8003)\" style=\"stroke:#000000; stroke-width:2; stroke-opacity:0.1; fill:none\" points=\"\n",
       "  1412.35,1010.46 2321.26,1010.46 \n",
       "  \"/>\n",
       "<polyline clip-path=\"url(#clip8003)\" style=\"stroke:#000000; stroke-width:2; stroke-opacity:0.1; fill:none\" points=\"\n",
       "  1412.35,783.233 2321.26,783.233 \n",
       "  \"/>\n",
       "<polyline clip-path=\"url(#clip8003)\" style=\"stroke:#000000; stroke-width:2; stroke-opacity:0.1; fill:none\" points=\"\n",
       "  1412.35,556.007 2321.26,556.007 \n",
       "  \"/>\n",
       "<polyline clip-path=\"url(#clip8003)\" style=\"stroke:#000000; stroke-width:2; stroke-opacity:0.1; fill:none\" points=\"\n",
       "  1412.35,328.78 2321.26,328.78 \n",
       "  \"/>\n",
       "<polyline clip-path=\"url(#clip8000)\" style=\"stroke:#000000; stroke-width:4; stroke-opacity:1; fill:none\" points=\"\n",
       "  1412.35,1237.69 2321.26,1237.69 \n",
       "  \"/>\n",
       "<polyline clip-path=\"url(#clip8000)\" style=\"stroke:#000000; stroke-width:4; stroke-opacity:1; fill:none\" points=\"\n",
       "  1412.35,1237.69 1412.35,328.78 \n",
       "  \"/>\n",
       "<polyline clip-path=\"url(#clip8000)\" style=\"stroke:#000000; stroke-width:4; stroke-opacity:1; fill:none\" points=\"\n",
       "  1412.35,1237.69 1412.35,1224.05 \n",
       "  \"/>\n",
       "<polyline clip-path=\"url(#clip8000)\" style=\"stroke:#000000; stroke-width:4; stroke-opacity:1; fill:none\" points=\"\n",
       "  1639.58,1237.69 1639.58,1224.05 \n",
       "  \"/>\n",
       "<polyline clip-path=\"url(#clip8000)\" style=\"stroke:#000000; stroke-width:4; stroke-opacity:1; fill:none\" points=\"\n",
       "  1866.81,1237.69 1866.81,1224.05 \n",
       "  \"/>\n",
       "<polyline clip-path=\"url(#clip8000)\" style=\"stroke:#000000; stroke-width:4; stroke-opacity:1; fill:none\" points=\"\n",
       "  2094.03,1237.69 2094.03,1224.05 \n",
       "  \"/>\n",
       "<polyline clip-path=\"url(#clip8000)\" style=\"stroke:#000000; stroke-width:4; stroke-opacity:1; fill:none\" points=\"\n",
       "  2321.26,1237.69 2321.26,1224.05 \n",
       "  \"/>\n",
       "<polyline clip-path=\"url(#clip8000)\" style=\"stroke:#000000; stroke-width:4; stroke-opacity:1; fill:none\" points=\"\n",
       "  1412.35,1237.69 1425.99,1237.69 \n",
       "  \"/>\n",
       "<polyline clip-path=\"url(#clip8000)\" style=\"stroke:#000000; stroke-width:4; stroke-opacity:1; fill:none\" points=\"\n",
       "  1412.35,1010.46 1425.99,1010.46 \n",
       "  \"/>\n",
       "<polyline clip-path=\"url(#clip8000)\" style=\"stroke:#000000; stroke-width:4; stroke-opacity:1; fill:none\" points=\"\n",
       "  1412.35,783.233 1425.99,783.233 \n",
       "  \"/>\n",
       "<polyline clip-path=\"url(#clip8000)\" style=\"stroke:#000000; stroke-width:4; stroke-opacity:1; fill:none\" points=\"\n",
       "  1412.35,556.007 1425.99,556.007 \n",
       "  \"/>\n",
       "<polyline clip-path=\"url(#clip8000)\" style=\"stroke:#000000; stroke-width:4; stroke-opacity:1; fill:none\" points=\"\n",
       "  1412.35,328.78 1425.99,328.78 \n",
       "  \"/>\n",
       "<g clip-path=\"url(#clip8000)\">\n",
       "<text style=\"fill:#000000; fill-opacity:1; font-family:Arial,Helvetica Neue,Helvetica,sans-serif; font-size:48px; text-anchor:middle;\" transform=\"rotate(0, 1412.35, 1291.69)\" x=\"1412.35\" y=\"1291.69\">-4</text>\n",
       "</g>\n",
       "<g clip-path=\"url(#clip8000)\">\n",
       "<text style=\"fill:#000000; fill-opacity:1; font-family:Arial,Helvetica Neue,Helvetica,sans-serif; font-size:48px; text-anchor:middle;\" transform=\"rotate(0, 1639.58, 1291.69)\" x=\"1639.58\" y=\"1291.69\">-2</text>\n",
       "</g>\n",
       "<g clip-path=\"url(#clip8000)\">\n",
       "<text style=\"fill:#000000; fill-opacity:1; font-family:Arial,Helvetica Neue,Helvetica,sans-serif; font-size:48px; text-anchor:middle;\" transform=\"rotate(0, 1866.81, 1291.69)\" x=\"1866.81\" y=\"1291.69\">0</text>\n",
       "</g>\n",
       "<g clip-path=\"url(#clip8000)\">\n",
       "<text style=\"fill:#000000; fill-opacity:1; font-family:Arial,Helvetica Neue,Helvetica,sans-serif; font-size:48px; text-anchor:middle;\" transform=\"rotate(0, 2094.03, 1291.69)\" x=\"2094.03\" y=\"1291.69\">2</text>\n",
       "</g>\n",
       "<g clip-path=\"url(#clip8000)\">\n",
       "<text style=\"fill:#000000; fill-opacity:1; font-family:Arial,Helvetica Neue,Helvetica,sans-serif; font-size:48px; text-anchor:middle;\" transform=\"rotate(0, 2321.26, 1291.69)\" x=\"2321.26\" y=\"1291.69\">4</text>\n",
       "</g>\n",
       "<g clip-path=\"url(#clip8000)\">\n",
       "<text style=\"fill:#000000; fill-opacity:1; font-family:Arial,Helvetica Neue,Helvetica,sans-serif; font-size:48px; text-anchor:end;\" transform=\"rotate(0, 1388.35, 1255.19)\" x=\"1388.35\" y=\"1255.19\">-4</text>\n",
       "</g>\n",
       "<g clip-path=\"url(#clip8000)\">\n",
       "<text style=\"fill:#000000; fill-opacity:1; font-family:Arial,Helvetica Neue,Helvetica,sans-serif; font-size:48px; text-anchor:end;\" transform=\"rotate(0, 1388.35, 1027.96)\" x=\"1388.35\" y=\"1027.96\">-2</text>\n",
       "</g>\n",
       "<g clip-path=\"url(#clip8000)\">\n",
       "<text style=\"fill:#000000; fill-opacity:1; font-family:Arial,Helvetica Neue,Helvetica,sans-serif; font-size:48px; text-anchor:end;\" transform=\"rotate(0, 1388.35, 800.733)\" x=\"1388.35\" y=\"800.733\">0</text>\n",
       "</g>\n",
       "<g clip-path=\"url(#clip8000)\">\n",
       "<text style=\"fill:#000000; fill-opacity:1; font-family:Arial,Helvetica Neue,Helvetica,sans-serif; font-size:48px; text-anchor:end;\" transform=\"rotate(0, 1388.35, 573.507)\" x=\"1388.35\" y=\"573.507\">2</text>\n",
       "</g>\n",
       "<g clip-path=\"url(#clip8000)\">\n",
       "<text style=\"fill:#000000; fill-opacity:1; font-family:Arial,Helvetica Neue,Helvetica,sans-serif; font-size:48px; text-anchor:end;\" transform=\"rotate(0, 1388.35, 346.28)\" x=\"1388.35\" y=\"346.28\">4</text>\n",
       "</g>\n",
       "<g clip-path=\"url(#clip8000)\">\n",
       "<text style=\"fill:#000000; fill-opacity:1; font-family:Arial,Helvetica Neue,Helvetica,sans-serif; font-size:84px; text-anchor:middle;\" transform=\"rotate(0, 1866.81, 73.2)\" x=\"1866.81\" y=\"73.2\">qy</text>\n",
       "</g>\n",
       "<g clip-path=\"url(#clip8000)\">\n",
       "<text style=\"fill:#000000; fill-opacity:1; font-family:Arial,Helvetica Neue,Helvetica,sans-serif; font-size:66px; text-anchor:middle;\" transform=\"rotate(0, 1866.81, 1590.4)\" x=\"1866.81\" y=\"1590.4\">x</text>\n",
       "</g>\n",
       "<g clip-path=\"url(#clip8000)\">\n",
       "<text style=\"fill:#000000; fill-opacity:1; font-family:Arial,Helvetica Neue,Helvetica,sans-serif; font-size:66px; text-anchor:middle;\" transform=\"rotate(-90, 1257.6, 783.233)\" x=\"1257.6\" y=\"783.233\">y</text>\n",
       "</g>\n",
       "<polyline clip-path=\"url(#clip8003)\" style=\"stroke:#e65e2d; stroke-width:4; stroke-opacity:1; fill:none\" points=\"\n",
       "  1848.32,797.435 1859.71,805.665 1873.91,805.665 1885.3,797.435 1888.11,791.277 \n",
       "  \"/>\n",
       "<polyline clip-path=\"url(#clip8003)\" style=\"stroke:#fabf26; stroke-width:4; stroke-opacity:1; fill:none\" points=\"\n",
       "  1873.91,795.963 1880.82,783.233 1873.91,770.504 1859.71,770.504 1852.79,783.233 1859.71,795.963 \n",
       "  \"/>\n",
       "<polyline clip-path=\"url(#clip8003)\" style=\"stroke:#f3e258; stroke-width:4; stroke-opacity:1; fill:none\" points=\"\n",
       "  1859.71,789.598 1856.25,783.233 1859.71,776.869 1873.91,776.869 1877.37,783.233 1873.91,789.598 \n",
       "  \"/>\n",
       "<polyline clip-path=\"url(#clip8003)\" style=\"stroke:#f57d15; stroke-width:4; stroke-opacity:1; fill:none\" points=\"\n",
       "  1852.43,797.435 1859.71,802.693 1873.91,802.693 1881.18,797.435 1887.74,783.233 1881.18,769.032 1873.91,763.774 1859.71,763.774 1852.43,769.032 \n",
       "  \"/>\n",
       "<polyline clip-path=\"url(#clip8003)\" style=\"stroke:#e65e2d; stroke-width:4; stroke-opacity:1; fill:none\" points=\"\n",
       "  1848.32,769.032 1859.71,760.802 1873.91,760.802 1885.3,769.032 1888.11,775.189 1890.67,783.233 1888.11,791.277 \n",
       "  \"/>\n",
       "<polyline clip-path=\"url(#clip8003)\" style=\"stroke:#fb9c07; stroke-width:4; stroke-opacity:1; fill:none\" points=\"\n",
       "  1856.54,769.032 1859.71,766.747 1873.91,766.747 1877.07,769.032 1884.28,783.233 1877.07,797.435 1873.91,799.72 1859.71,799.72 1856.54,797.435 \n",
       "  \"/>\n",
       "<polyline clip-path=\"url(#clip8003)\" style=\"stroke:#e65e2d; stroke-width:4; stroke-opacity:1; fill:none\" points=\"\n",
       "  1845.5,791.277 1842.94,783.233 1845.5,775.189 1848.32,769.032 \n",
       "  \"/>\n",
       "<polyline clip-path=\"url(#clip8003)\" style=\"stroke:#821f6b; stroke-width:4; stroke-opacity:1; fill:none\" points=\"\n",
       "  1845.5,755.082 1834.19,769.032 1831.47,783.233 1834.19,797.435 1845.5,811.385 1845.92,811.637 1859.71,818.607 1873.91,818.607 1887.69,811.637 1888.11,811.385 \n",
       "  1899.42,797.435 1902.14,783.233 1899.42,769.032 1888.11,755.082 1887.69,754.83 1873.91,747.86 1859.71,747.86 1845.92,754.83 1845.5,755.082 \n",
       "  \"/>\n",
       "<polyline clip-path=\"url(#clip8003)\" style=\"stroke:#9e2a62; stroke-width:4; stroke-opacity:1; fill:none\" points=\"\n",
       "  1845.5,759.288 1837.6,769.032 1834.34,783.233 1837.6,797.435 1845.5,807.179 1852.84,811.637 1859.71,815.106 1873.91,815.106 1880.77,811.637 1888.11,807.179 \n",
       "  1896.01,797.435 1899.27,783.233 1896.01,769.032 1888.11,759.288 1880.77,754.83 1873.91,751.361 1859.71,751.361 1852.84,754.83 1845.5,759.288 \n",
       "  \"/>\n",
       "<polyline clip-path=\"url(#clip8003)\" style=\"stroke:#ba3655; stroke-width:4; stroke-opacity:1; fill:none\" points=\"\n",
       "  1845.5,763.495 1841.01,769.032 1837.21,783.233 1841.01,797.435 1845.5,802.972 1859.71,811.61 1873.91,811.61 1888.11,802.972 1892.6,797.435 1896.4,783.233 \n",
       "  1892.6,769.032 1888.11,763.495 1873.91,754.857 1859.71,754.857 1845.5,763.495 \n",
       "  \"/>\n",
       "<polyline clip-path=\"url(#clip8003)\" style=\"stroke:#d24742; stroke-width:4; stroke-opacity:1; fill:none\" points=\"\n",
       "  1845.5,767.701 1844.42,769.032 1840.08,783.233 1844.42,797.435 1845.5,798.766 1859.71,808.637 1873.91,808.637 1888.11,798.766 1889.19,797.435 1893.54,783.233 \n",
       "  1889.19,769.032 1888.11,767.701 1873.91,757.829 1859.71,757.829 1845.5,767.701 \n",
       "  \"/>\n",
       "<polyline clip-path=\"url(#clip8003)\" style=\"stroke:#470b69; stroke-width:4; stroke-opacity:1; fill:none\" points=\"\n",
       "  1859.71,740.858 1845.5,745.218 1834.36,754.83 1831.3,759.321 1825.21,769.032 1822.68,783.233 1825.21,797.435 1831.3,807.146 1834.36,811.637 1845.5,821.249 \n",
       "  1859.71,825.609 1873.91,825.609 1888.11,821.249 1899.25,811.637 1902.31,807.146 1908.4,797.435 1910.93,783.233 1908.4,769.032 1902.31,759.321 1899.25,754.83 \n",
       "  1888.11,745.218 1873.91,740.858 1859.71,740.858 \n",
       "  \"/>\n",
       "<polyline clip-path=\"url(#clip8003)\" style=\"stroke:#63146e; stroke-width:4; stroke-opacity:1; fill:none\" points=\"\n",
       "  1859.71,744.359 1845.5,750.172 1840.11,754.83 1831.3,767.745 1830.49,769.032 1827.13,783.233 1830.49,797.435 1831.3,798.722 1840.11,811.637 1845.5,816.295 \n",
       "  1859.71,822.108 1873.91,822.108 1888.11,816.295 1893.51,811.637 1902.31,798.722 1903.12,797.435 1906.49,783.233 1903.12,769.032 1902.31,767.745 1893.51,754.83 \n",
       "  1888.11,750.172 1873.91,744.359 1859.71,744.359 \n",
       "  \"/>\n",
       "<polyline clip-path=\"url(#clip8003)\" style=\"stroke:#0d0829; stroke-width:4; stroke-opacity:1; fill:none\" points=\"\n",
       "  1873.91,727.318 1859.71,727.318 1845.5,730.174 1831.3,739.936 1830.55,740.628 1818.25,754.83 1817.1,757.922 1811.09,769.032 1809.03,783.233 1811.09,797.435 \n",
       "  1817.1,808.545 1818.25,811.637 1830.55,825.838 1831.3,826.531 1845.5,836.293 1859.71,839.149 1873.91,839.149 1888.11,836.293 1902.31,826.531 1903.06,825.838 \n",
       "  1915.36,811.637 1916.51,808.545 1922.52,797.435 1924.58,783.233 1922.52,769.032 1916.51,757.922 1915.36,754.83 1903.06,740.628 1902.31,739.936 1888.11,730.174 \n",
       "  1873.91,727.318 \n",
       "  \"/>\n",
       "<polyline clip-path=\"url(#clip8003)\" style=\"stroke:#270b52; stroke-width:4; stroke-opacity:1; fill:none\" points=\"\n",
       "  1873.91,734.198 1859.71,734.198 1845.5,739.911 1844.5,740.628 1831.3,750.198 1827.15,754.83 1819.93,769.032 1818.24,783.233 1819.93,797.435 1827.15,811.637 \n",
       "  1831.3,816.269 1844.5,825.838 1845.5,826.556 1859.71,832.269 1873.91,832.269 1888.11,826.556 1889.12,825.838 1902.31,816.269 1906.46,811.637 1913.69,797.435 \n",
       "  1915.37,783.233 1913.69,769.032 1906.46,754.83 1902.31,750.198 1889.12,740.628 1888.11,739.911 1873.91,734.198 \n",
       "  \"/>\n",
       "<polyline clip-path=\"url(#clip8003)\" style=\"stroke:#f57d15; stroke-width:4; stroke-opacity:1; fill:none\" points=\"\n",
       "  1845.87,783.233 1852.43,797.435 \n",
       "  \"/>\n",
       "<polyline clip-path=\"url(#clip8003)\" style=\"stroke:#fb9c07; stroke-width:4; stroke-opacity:1; fill:none\" points=\"\n",
       "  1849.33,783.233 1856.54,797.435 \n",
       "  \"/>\n",
       "</svg>\n"
      ]
     },
     "execution_count": 22,
     "metadata": {},
     "output_type": "execute_result"
    }
   ],
   "source": [
    "p1 = contour(xedgex.(i_x),yedgex.(j_x),transpose(u0.qx[i_x,j_x]),legend=false,title=\"qx\")\n",
    "p2 = contour(xedgey.(i_y),yedgey.(j_y),transpose(u0.qy[i_y,j_y]),legend=false,title=\"qy\")\n",
    "plot(p1,p2,layout=(1,2),xlabel=\"x\",ylabel=\"y\",ratio=1,xlim=(xedgex(1),xedgex(NX+1)),ylim=(yedgey(1),yedgey(NY+1)))"
   ]
  },
  {
   "cell_type": "markdown",
   "metadata": {},
   "source": [
    "### Set up the time step and the integrator"
   ]
  },
  {
   "cell_type": "markdown",
   "metadata": {},
   "source": [
    "Set up time step. Note that the maximum grid Fourier number in 2-d will be slightly smaller than in 1-d. (Why?)"
   ]
  },
  {
   "cell_type": "code",
   "execution_count": 114,
   "metadata": {},
   "outputs": [
    {
     "data": {
      "text/plain": [
       "0.01953125"
      ]
     },
     "execution_count": 114,
     "metadata": {},
     "output_type": "execute_result"
    }
   ],
   "source": [
    "Fo = 5 # Fourier number: this choice should be explored!\n",
    "Δt = Fo*Δx^2/ν "
   ]
  },
  {
   "cell_type": "markdown",
   "metadata": {},
   "source": [
    "### Set the integrator.\n",
    "\n",
    "Here we are setting up a method that will take in (t,u) at one time level and return these values at the next time level:\n",
    "\n",
    "`t, u = stepper(t,u)`"
   ]
  },
  {
   "cell_type": "code",
   "execution_count": 8,
   "metadata": {},
   "outputs": [],
   "source": [
    "# Here is what these might look like... The choices below create a new function called `stepper`\n",
    "# But you need to write the functions `diffuse2d_dirichlet` and `diffuse2d_dirichlet_cn`\n",
    "\n",
    "# For Runge-Kutta\n",
    "#stepper = RK(u0,Δt,diffuse2d_dirichlet;rk=RK4)\n",
    "\n",
    "# or, for Crank-Nicolson\n",
    "#stepper = diffuse2d_dirichlet_cn"
   ]
  },
  {
   "cell_type": "markdown",
   "metadata": {},
   "source": [
    "### Solve the problem"
   ]
  },
  {
   "cell_type": "markdown",
   "metadata": {},
   "source": [
    "Integrate this to final time of tf. Try different final times to explore the evolution of the problem."
   ]
  },
  {
   "cell_type": "code",
   "execution_count": 116,
   "metadata": {},
   "outputs": [],
   "source": [
    "tf = 0.1\n",
    "nsteps = ceil(Int,tf/Δt)\n",
    "\n",
    "# Initial conditions\n",
    "t = 0.0\n",
    "u = deepcopy(u0)\n",
    "\n",
    "# Set up some arrays to store data\n",
    "uarray = [deepcopy(u)]\n",
    "tarray = [t]\n",
    "\n",
    "# March!\n",
    "for j = 1:nsteps\n",
    "    global t, u = stepper(t,u)\n",
    "    \n",
    "    # enforce boundary conditions on result\n",
    "    apply_bc!(u,t)\n",
    "    \n",
    "    push!(uarray,deepcopy(u))\n",
    "    push!(tarray,t)\n",
    "end"
   ]
  },
  {
   "cell_type": "markdown",
   "metadata": {},
   "source": [
    "#### For the Gaussian pulse"
   ]
  },
  {
   "cell_type": "markdown",
   "metadata": {},
   "source": [
    "Compute the exact solution at this final time level"
   ]
  },
  {
   "cell_type": "code",
   "execution_count": 73,
   "metadata": {},
   "outputs": [],
   "source": [
    "texact = tarray[end]\n",
    "uexact = EdgeData(u0)\n",
    "for j in j_e_x, i in i_e_x\n",
    "    uexact.qx[i,j] = f(xedgex(i),yedgex(j),sqrt(σ^2+4ν*texact))\n",
    "end\n",
    "for j in j_e_y, i in i_e_y\n",
    "    uexact.qy[i,j] = f(xedgey(i),yedgey(j),sqrt(σ^2+4ν*texact))\n",
    "end"
   ]
  },
  {
   "cell_type": "markdown",
   "metadata": {},
   "source": [
    "#### For pure boundary data"
   ]
  },
  {
   "cell_type": "markdown",
   "metadata": {},
   "source": [
    "Compare with the exact solution:\n",
    "\n",
    "$$f(x,y,t) = \\dfrac{2}{\\pi} \\sin(\\pi x)\\sum_{n=1}^{\\infty}\\dfrac{(-1)^n n}{n^2+1} e^{-\\nu(n^2+1)\\pi^2 t}\\sin(n\\pi y) + \\dfrac{\\sin(\\pi x)\\sinh(\\pi y)}{\\sinh \\pi}$$"
   ]
  },
  {
   "cell_type": "code",
   "execution_count": null,
   "metadata": {},
   "outputs": [],
   "source": [
    "# Evaluate the exact solution, as given in the probme"
   ]
  }
 ],
 "metadata": {
  "kernelspec": {
   "display_name": "Julia 1.1.0",
   "language": "julia",
   "name": "julia-1.1"
  },
  "language_info": {
   "file_extension": ".jl",
   "mimetype": "application/julia",
   "name": "julia",
   "version": "1.1.0"
  }
 },
 "nbformat": 4,
 "nbformat_minor": 2
}
